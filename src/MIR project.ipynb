{
 "cells": [
  {
   "cell_type": "code",
   "execution_count": 8,
   "metadata": {},
   "outputs": [
    {
     "name": "stdout",
     "output_type": "stream",
     "text": [
      "Collecting pychord\n",
      "  Using cached pychord-0.6.2-py2.py3-none-any.whl (11 kB)\n",
      "Installing collected packages: pychord\n",
      "Successfully installed pychord-0.6.2\n",
      "Note: you may need to restart the kernel to use updated packages.\n"
     ]
    }
   ],
   "source": [
    "pip install pychord"
   ]
  },
  {
   "cell_type": "code",
   "execution_count": 39,
   "metadata": {},
   "outputs": [],
   "source": [
    "import pandas as pd"
   ]
  },
  {
   "cell_type": "code",
   "execution_count": null,
   "metadata": {},
   "outputs": [],
   "source": [
    "#genre_dataset = pd.read_csv(\"genre_dataset_metadata.csv\")"
   ]
  },
  {
   "cell_type": "code",
   "execution_count": 38,
   "metadata": {},
   "outputs": [
    {
     "name": "stdout",
     "output_type": "stream",
     "text": [
      "Bbm7\n",
      "Bm7\n",
      "Cm7\n",
      "Dbm7\n",
      "Dm7\n",
      "Ebm7\n",
      "Em7\n",
      "Fm7\n",
      "Gbm7\n",
      "Gm7\n",
      "Abm7\n",
      "Am7\n"
     ]
    }
   ],
   "source": [
    "from pychord import Chord\n",
    "c = Chord(\"Am7\")\n",
    "i = 1;\n",
    "for i in range(12):\n",
    "    c.transpose(1);\n",
    "    i += 1;\n",
    "    print(c)"
   ]
  },
  {
   "cell_type": "code",
   "execution_count": null,
   "metadata": {},
   "outputs": [],
   "source": []
  }
 ],
 "metadata": {
  "kernelspec": {
   "display_name": "Python 3",
   "language": "python",
   "name": "python3"
  },
  "language_info": {
   "codemirror_mode": {
    "name": "ipython",
    "version": 3
   },
   "file_extension": ".py",
   "mimetype": "text/x-python",
   "name": "python",
   "nbconvert_exporter": "python",
   "pygments_lexer": "ipython3",
   "version": "3.8.3"
  }
 },
 "nbformat": 4,
 "nbformat_minor": 4
}
