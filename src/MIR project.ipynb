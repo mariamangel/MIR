{
 "cells": [
  {
   "cell_type": "code",
   "execution_count": 8,
   "metadata": {},
   "outputs": [
    {
     "name": "stdout",
     "output_type": "stream",
     "text": [
      "Collecting pychord\n",
      "  Using cached pychord-0.6.2-py2.py3-none-any.whl (11 kB)\n",
      "Installing collected packages: pychord\n",
      "Successfully installed pychord-0.6.2\n",
      "Note: you may need to restart the kernel to use updated packages.\n"
     ]
    }
   ],
   "source": [
    "pip install pychord"
   ]
  },
  {
   "cell_type": "code",
   "execution_count": 39,
   "metadata": {},
   "outputs": [],
   "source": [
    "import pandas as pd"
   ]
  },
  {
   "cell_type": "code",
   "execution_count": null,
   "metadata": {},
   "outputs": [],
   "source": [
    "#genre_dataset = pd.read_csv(\"genre_dataset_metadata.csv\")"
   ]
  },
  {
   "cell_type": "code",
   "execution_count": 38,
   "metadata": {},
   "outputs": [
    {
     "name": "stdout",
     "output_type": "stream",
     "text": [
      "Bbm7\n",
      "Bm7\n",
      "Cm7\n",
      "Dbm7\n",
      "Dm7\n",
      "Ebm7\n",
      "Em7\n",
      "Fm7\n",
      "Gbm7\n",
      "Gm7\n",
      "Abm7\n",
      "Am7\n"
     ]
    }
   ],
   "source": [
    "from pychord import Chord\n",
    "c = Chord(\"Am7\")\n",
    "i = 1;\n",
    "for i in range(12):\n",
    "    c.transpose(1);\n",
    "    i += 1;\n",
    "    print(c)"
   ]
  },
  {
   "cell_type": "code",
   "execution_count": 40,
   "metadata": {},
   "outputs": [],
   "source": [
    "import glob"
   ]
  },
  {
   "cell_type": "code",
   "execution_count": 55,
   "metadata": {},
   "outputs": [],
   "source": [
    "music_folder = \"/Users/maria/Desktop/TÜ/Muusika andmeanalüütika/MIR/genres\"\n",
    "\n",
    "music_files = glob.glob(music_folder + '/**/blues*.wav', recursive=True)"
   ]
  },
  {
   "cell_type": "code",
   "execution_count": 56,
   "metadata": {},
   "outputs": [
    {
     "data": {
      "text/plain": [
       "['/Users/maria/Desktop/TÜ/Muusika andmeanalüütika/MIR/genres/blues/blues.00093.wav',\n",
       " '/Users/maria/Desktop/TÜ/Muusika andmeanalüütika/MIR/genres/blues/blues.00087.wav',\n",
       " '/Users/maria/Desktop/TÜ/Muusika andmeanalüütika/MIR/genres/blues/blues.00050.wav',\n",
       " '/Users/maria/Desktop/TÜ/Muusika andmeanalüütika/MIR/genres/blues/blues.00044.wav',\n",
       " '/Users/maria/Desktop/TÜ/Muusika andmeanalüütika/MIR/genres/blues/blues.00078.wav',\n",
       " '/Users/maria/Desktop/TÜ/Muusika andmeanalüütika/MIR/genres/blues/blues.00079.wav',\n",
       " '/Users/maria/Desktop/TÜ/Muusika andmeanalüütika/MIR/genres/blues/blues.00045.wav',\n",
       " '/Users/maria/Desktop/TÜ/Muusika andmeanalüütika/MIR/genres/blues/blues.00051.wav',\n",
       " '/Users/maria/Desktop/TÜ/Muusika andmeanalüütika/MIR/genres/blues/blues.00086.wav',\n",
       " '/Users/maria/Desktop/TÜ/Muusika andmeanalüütika/MIR/genres/blues/blues.00092.wav',\n",
       " '/Users/maria/Desktop/TÜ/Muusika andmeanalüütika/MIR/genres/blues/blues.00084.wav',\n",
       " '/Users/maria/Desktop/TÜ/Muusika andmeanalüütika/MIR/genres/blues/blues.00090.wav',\n",
       " '/Users/maria/Desktop/TÜ/Muusika andmeanalüütika/MIR/genres/blues/blues.00047.wav',\n",
       " '/Users/maria/Desktop/TÜ/Muusika andmeanalüütika/MIR/genres/blues/blues.00053.wav',\n",
       " '/Users/maria/Desktop/TÜ/Muusika andmeanalüütika/MIR/genres/blues/blues.00052.wav',\n",
       " '/Users/maria/Desktop/TÜ/Muusika andmeanalüütika/MIR/genres/blues/blues.00046.wav',\n",
       " '/Users/maria/Desktop/TÜ/Muusika andmeanalüütika/MIR/genres/blues/blues.00091.wav',\n",
       " '/Users/maria/Desktop/TÜ/Muusika andmeanalüütika/MIR/genres/blues/blues.00085.wav',\n",
       " '/Users/maria/Desktop/TÜ/Muusika andmeanalüütika/MIR/genres/blues/blues.00081.wav',\n",
       " '/Users/maria/Desktop/TÜ/Muusika andmeanalüütika/MIR/genres/blues/blues.00095.wav',\n",
       " '/Users/maria/Desktop/TÜ/Muusika andmeanalüütika/MIR/genres/blues/blues.00042.wav',\n",
       " '/Users/maria/Desktop/TÜ/Muusika andmeanalüütika/MIR/genres/blues/blues.00056.wav',\n",
       " '/Users/maria/Desktop/TÜ/Muusika andmeanalüütika/MIR/genres/blues/blues.00057.wav',\n",
       " '/Users/maria/Desktop/TÜ/Muusika andmeanalüütika/MIR/genres/blues/blues.00043.wav',\n",
       " '/Users/maria/Desktop/TÜ/Muusika andmeanalüütika/MIR/genres/blues/blues.00094.wav',\n",
       " '/Users/maria/Desktop/TÜ/Muusika andmeanalüütika/MIR/genres/blues/blues.00080.wav',\n",
       " '/Users/maria/Desktop/TÜ/Muusika andmeanalüütika/MIR/genres/blues/blues.00096.wav',\n",
       " '/Users/maria/Desktop/TÜ/Muusika andmeanalüütika/MIR/genres/blues/blues.00082.wav',\n",
       " '/Users/maria/Desktop/TÜ/Muusika andmeanalüütika/MIR/genres/blues/blues.00069.wav',\n",
       " '/Users/maria/Desktop/TÜ/Muusika andmeanalüütika/MIR/genres/blues/blues.00055.wav',\n",
       " '/Users/maria/Desktop/TÜ/Muusika andmeanalüütika/MIR/genres/blues/blues.00041.wav',\n",
       " '/Users/maria/Desktop/TÜ/Muusika andmeanalüütika/MIR/genres/blues/blues.00040.wav',\n",
       " '/Users/maria/Desktop/TÜ/Muusika andmeanalüütika/MIR/genres/blues/blues.00054.wav',\n",
       " '/Users/maria/Desktop/TÜ/Muusika andmeanalüütika/MIR/genres/blues/blues.00068.wav',\n",
       " '/Users/maria/Desktop/TÜ/Muusika andmeanalüütika/MIR/genres/blues/blues.00083.wav',\n",
       " '/Users/maria/Desktop/TÜ/Muusika andmeanalüütika/MIR/genres/blues/blues.00097.wav',\n",
       " '/Users/maria/Desktop/TÜ/Muusika andmeanalüütika/MIR/genres/blues/blues.00033.wav',\n",
       " '/Users/maria/Desktop/TÜ/Muusika andmeanalüütika/MIR/genres/blues/blues.00027.wav',\n",
       " '/Users/maria/Desktop/TÜ/Muusika andmeanalüütika/MIR/genres/blues/blues.00026.wav',\n",
       " '/Users/maria/Desktop/TÜ/Muusika andmeanalüütika/MIR/genres/blues/blues.00032.wav',\n",
       " '/Users/maria/Desktop/TÜ/Muusika andmeanalüütika/MIR/genres/blues/blues.00024.wav',\n",
       " '/Users/maria/Desktop/TÜ/Muusika andmeanalüütika/MIR/genres/blues/blues.00030.wav',\n",
       " '/Users/maria/Desktop/TÜ/Muusika andmeanalüütika/MIR/genres/blues/blues.00018.wav',\n",
       " '/Users/maria/Desktop/TÜ/Muusika andmeanalüütika/MIR/genres/blues/blues.00019.wav',\n",
       " '/Users/maria/Desktop/TÜ/Muusika andmeanalüütika/MIR/genres/blues/blues.00031.wav',\n",
       " '/Users/maria/Desktop/TÜ/Muusika andmeanalüütika/MIR/genres/blues/blues.00025.wav',\n",
       " '/Users/maria/Desktop/TÜ/Muusika andmeanalüütika/MIR/genres/blues/blues.00009.wav',\n",
       " '/Users/maria/Desktop/TÜ/Muusika andmeanalüütika/MIR/genres/blues/blues.00021.wav',\n",
       " '/Users/maria/Desktop/TÜ/Muusika andmeanalüütika/MIR/genres/blues/blues.00035.wav',\n",
       " '/Users/maria/Desktop/TÜ/Muusika andmeanalüütika/MIR/genres/blues/blues.00034.wav',\n",
       " '/Users/maria/Desktop/TÜ/Muusika andmeanalüütika/MIR/genres/blues/blues.00020.wav',\n",
       " '/Users/maria/Desktop/TÜ/Muusika andmeanalüütika/MIR/genres/blues/blues.00008.wav',\n",
       " '/Users/maria/Desktop/TÜ/Muusika andmeanalüütika/MIR/genres/blues/blues.00036.wav',\n",
       " '/Users/maria/Desktop/TÜ/Muusika andmeanalüütika/MIR/genres/blues/blues.00022.wav',\n",
       " '/Users/maria/Desktop/TÜ/Muusika andmeanalüütika/MIR/genres/blues/blues.00023.wav',\n",
       " '/Users/maria/Desktop/TÜ/Muusika andmeanalüütika/MIR/genres/blues/blues.00037.wav',\n",
       " '/Users/maria/Desktop/TÜ/Muusika andmeanalüütika/MIR/genres/blues/blues.00012.wav',\n",
       " '/Users/maria/Desktop/TÜ/Muusika andmeanalüütika/MIR/genres/blues/blues.00006.wav',\n",
       " '/Users/maria/Desktop/TÜ/Muusika andmeanalüütika/MIR/genres/blues/blues.00007.wav',\n",
       " '/Users/maria/Desktop/TÜ/Muusika andmeanalüütika/MIR/genres/blues/blues.00013.wav',\n",
       " '/Users/maria/Desktop/TÜ/Muusika andmeanalüütika/MIR/genres/blues/blues.00005.wav',\n",
       " '/Users/maria/Desktop/TÜ/Muusika andmeanalüütika/MIR/genres/blues/blues.00011.wav',\n",
       " '/Users/maria/Desktop/TÜ/Muusika andmeanalüütika/MIR/genres/blues/blues.00039.wav',\n",
       " '/Users/maria/Desktop/TÜ/Muusika andmeanalüütika/MIR/genres/blues/blues.00038.wav',\n",
       " '/Users/maria/Desktop/TÜ/Muusika andmeanalüütika/MIR/genres/blues/blues.00010.wav',\n",
       " '/Users/maria/Desktop/TÜ/Muusika andmeanalüütika/MIR/genres/blues/blues.00004.wav',\n",
       " '/Users/maria/Desktop/TÜ/Muusika andmeanalüütika/MIR/genres/blues/blues.00028.wav',\n",
       " '/Users/maria/Desktop/TÜ/Muusika andmeanalüütika/MIR/genres/blues/blues.00000.wav',\n",
       " '/Users/maria/Desktop/TÜ/Muusika andmeanalüütika/MIR/genres/blues/blues.00014.wav',\n",
       " '/Users/maria/Desktop/TÜ/Muusika andmeanalüütika/MIR/genres/blues/blues.00015.wav',\n",
       " '/Users/maria/Desktop/TÜ/Muusika andmeanalüütika/MIR/genres/blues/blues.00001.wav',\n",
       " '/Users/maria/Desktop/TÜ/Muusika andmeanalüütika/MIR/genres/blues/blues.00029.wav',\n",
       " '/Users/maria/Desktop/TÜ/Muusika andmeanalüütika/MIR/genres/blues/blues.00017.wav',\n",
       " '/Users/maria/Desktop/TÜ/Muusika andmeanalüütika/MIR/genres/blues/blues.00003.wav',\n",
       " '/Users/maria/Desktop/TÜ/Muusika andmeanalüütika/MIR/genres/blues/blues.00002.wav',\n",
       " '/Users/maria/Desktop/TÜ/Muusika andmeanalüütika/MIR/genres/blues/blues.00016.wav',\n",
       " '/Users/maria/Desktop/TÜ/Muusika andmeanalüütika/MIR/genres/blues/blues.00071.wav',\n",
       " '/Users/maria/Desktop/TÜ/Muusika andmeanalüütika/MIR/genres/blues/blues.00065.wav',\n",
       " '/Users/maria/Desktop/TÜ/Muusika andmeanalüütika/MIR/genres/blues/blues.00059.wav',\n",
       " '/Users/maria/Desktop/TÜ/Muusika andmeanalüütika/MIR/genres/blues/blues.00058.wav',\n",
       " '/Users/maria/Desktop/TÜ/Muusika andmeanalüütika/MIR/genres/blues/blues.00064.wav',\n",
       " '/Users/maria/Desktop/TÜ/Muusika andmeanalüütika/MIR/genres/blues/blues.00070.wav',\n",
       " '/Users/maria/Desktop/TÜ/Muusika andmeanalüütika/MIR/genres/blues/blues.00099.wav',\n",
       " '/Users/maria/Desktop/TÜ/Muusika andmeanalüütika/MIR/genres/blues/blues.00066.wav',\n",
       " '/Users/maria/Desktop/TÜ/Muusika andmeanalüütika/MIR/genres/blues/blues.00072.wav',\n",
       " '/Users/maria/Desktop/TÜ/Muusika andmeanalüütika/MIR/genres/blues/blues.00073.wav',\n",
       " '/Users/maria/Desktop/TÜ/Muusika andmeanalüütika/MIR/genres/blues/blues.00067.wav',\n",
       " '/Users/maria/Desktop/TÜ/Muusika andmeanalüütika/MIR/genres/blues/blues.00098.wav',\n",
       " '/Users/maria/Desktop/TÜ/Muusika andmeanalüütika/MIR/genres/blues/blues.00088.wav',\n",
       " '/Users/maria/Desktop/TÜ/Muusika andmeanalüütika/MIR/genres/blues/blues.00063.wav',\n",
       " '/Users/maria/Desktop/TÜ/Muusika andmeanalüütika/MIR/genres/blues/blues.00077.wav',\n",
       " '/Users/maria/Desktop/TÜ/Muusika andmeanalüütika/MIR/genres/blues/blues.00076.wav',\n",
       " '/Users/maria/Desktop/TÜ/Muusika andmeanalüütika/MIR/genres/blues/blues.00062.wav',\n",
       " '/Users/maria/Desktop/TÜ/Muusika andmeanalüütika/MIR/genres/blues/blues.00089.wav',\n",
       " '/Users/maria/Desktop/TÜ/Muusika andmeanalüütika/MIR/genres/blues/blues.00048.wav',\n",
       " '/Users/maria/Desktop/TÜ/Muusika andmeanalüütika/MIR/genres/blues/blues.00074.wav',\n",
       " '/Users/maria/Desktop/TÜ/Muusika andmeanalüütika/MIR/genres/blues/blues.00060.wav',\n",
       " '/Users/maria/Desktop/TÜ/Muusika andmeanalüütika/MIR/genres/blues/blues.00061.wav',\n",
       " '/Users/maria/Desktop/TÜ/Muusika andmeanalüütika/MIR/genres/blues/blues.00075.wav',\n",
       " '/Users/maria/Desktop/TÜ/Muusika andmeanalüütika/MIR/genres/blues/blues.00049.wav']"
      ]
     },
     "execution_count": 56,
     "metadata": {},
     "output_type": "execute_result"
    }
   ],
   "source": [
    "music_files"
   ]
  },
  {
   "cell_type": "code",
   "execution_count": null,
   "metadata": {},
   "outputs": [],
   "source": []
  }
 ],
 "metadata": {
  "kernelspec": {
   "display_name": "Python 3",
   "language": "python",
   "name": "python3"
  },
  "language_info": {
   "codemirror_mode": {
    "name": "ipython",
    "version": 3
   },
   "file_extension": ".py",
   "mimetype": "text/x-python",
   "name": "python",
   "nbconvert_exporter": "python",
   "pygments_lexer": "ipython3",
   "version": "3.8.3"
  }
 },
 "nbformat": 4,
 "nbformat_minor": 4
}
