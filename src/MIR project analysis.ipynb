{
 "cells": [
  {
   "cell_type": "code",
   "execution_count": 40,
   "metadata": {},
   "outputs": [],
   "source": [
    "import pandas as pd\n",
    "import ast"
   ]
  },
  {
   "cell_type": "code",
   "execution_count": 41,
   "metadata": {},
   "outputs": [],
   "source": [
    "blues_df = pd.read_csv(\"Blues_df.csv\")\n",
    "classical_df = pd.read_csv(\"Classical_df.csv\")\n",
    "country_df = pd.read_csv(\"Country_df.csv\")\n",
    "disco_df = pd.read_csv(\"Disco_df.csv\")\n",
    "hiphop_df = pd.read_csv(\"Hiphop_df.csv\")\n",
    "jazz_df = pd.read_csv(\"Jazz_df.csv\")\n",
    "metal_df = pd.read_csv(\"Metal_df.csv\")\n",
    "pop_df = pd.read_csv(\"Pop_df.csv\")\n",
    "reggae_df = pd.read_csv(\"Reggae_df.csv\")\n",
    "rock_df = pd.read_csv(\"Rock_df.csv\")"
   ]
  },
  {
   "cell_type": "code",
   "execution_count": 42,
   "metadata": {},
   "outputs": [
    {
     "data": {
      "text/html": [
       "<div>\n",
       "<style scoped>\n",
       "    .dataframe tbody tr th:only-of-type {\n",
       "        vertical-align: middle;\n",
       "    }\n",
       "\n",
       "    .dataframe tbody tr th {\n",
       "        vertical-align: top;\n",
       "    }\n",
       "\n",
       "    .dataframe thead th {\n",
       "        text-align: right;\n",
       "    }\n",
       "</style>\n",
       "<table border=\"1\" class=\"dataframe\">\n",
       "  <thead>\n",
       "    <tr style=\"text-align: right;\">\n",
       "      <th></th>\n",
       "      <th>Genre</th>\n",
       "      <th>Chords</th>\n",
       "      <th>First Chord</th>\n",
       "      <th>Most Popular Chords</th>\n",
       "    </tr>\n",
       "  </thead>\n",
       "  <tbody>\n",
       "    <tr>\n",
       "      <th>0</th>\n",
       "      <td>Blues</td>\n",
       "      <td>['Gm7', 'G']</td>\n",
       "      <td>G</td>\n",
       "      <td>Gm7</td>\n",
       "    </tr>\n",
       "    <tr>\n",
       "      <th>1</th>\n",
       "      <td>Blues</td>\n",
       "      <td>['Dm7b5/C', 'Cmaj7', 'Gm7', 'F/C', 'Cmaj7']</td>\n",
       "      <td>D</td>\n",
       "      <td>['Dm7b5/C', 'Cmaj7', 'Gm7']</td>\n",
       "    </tr>\n",
       "    <tr>\n",
       "      <th>2</th>\n",
       "      <td>Blues</td>\n",
       "      <td>['E7', 'A7', 'Em', 'Bm7b5/A']</td>\n",
       "      <td>E</td>\n",
       "      <td>['E7', 'A7', 'Em']</td>\n",
       "    </tr>\n",
       "    <tr>\n",
       "      <th>3</th>\n",
       "      <td>Blues</td>\n",
       "      <td>['E7', 'Em7']</td>\n",
       "      <td>E</td>\n",
       "      <td>E7</td>\n",
       "    </tr>\n",
       "    <tr>\n",
       "      <th>4</th>\n",
       "      <td>Blues</td>\n",
       "      <td>['Fm', 'Cm', 'Bb/F', 'Fm']</td>\n",
       "      <td>F</td>\n",
       "      <td>['Fm', 'Cm', 'Bb/F']</td>\n",
       "    </tr>\n",
       "    <tr>\n",
       "      <th>...</th>\n",
       "      <td>...</td>\n",
       "      <td>...</td>\n",
       "      <td>...</td>\n",
       "      <td>...</td>\n",
       "    </tr>\n",
       "    <tr>\n",
       "      <th>95</th>\n",
       "      <td>Blues</td>\n",
       "      <td>['F#m7', 'Bmaj7', 'Gm6', 'Abdim', 'A/C#', 'F#/...</td>\n",
       "      <td>F</td>\n",
       "      <td>['F#m7', 'Bmaj7', 'Gm6']</td>\n",
       "    </tr>\n",
       "    <tr>\n",
       "      <th>96</th>\n",
       "      <td>Blues</td>\n",
       "      <td>['E', 'A', 'E', 'Emaj7', 'E', 'F#7', 'Emaj7', ...</td>\n",
       "      <td>E</td>\n",
       "      <td>['E', 'A', 'Emaj7']</td>\n",
       "    </tr>\n",
       "    <tr>\n",
       "      <th>97</th>\n",
       "      <td>Blues</td>\n",
       "      <td>['Bm', 'F#m7b5/E', 'Gmaj7', 'Cmaj7', 'F#m', 'G...</td>\n",
       "      <td>B</td>\n",
       "      <td>['Bm', 'F#m7b5/E', 'Gmaj7']</td>\n",
       "    </tr>\n",
       "    <tr>\n",
       "      <th>98</th>\n",
       "      <td>Blues</td>\n",
       "      <td>['C7', 'F7', 'Am7b5/G', 'C7', 'G7', 'F7', 'C7'...</td>\n",
       "      <td>C</td>\n",
       "      <td>['C7', 'F7', 'Am7b5/G']</td>\n",
       "    </tr>\n",
       "    <tr>\n",
       "      <th>99</th>\n",
       "      <td>Blues</td>\n",
       "      <td>['Gm6', 'F7/A', 'Cm6', 'Bb/C', 'F7/A', 'Cm7', ...</td>\n",
       "      <td>G</td>\n",
       "      <td>['Gm6', 'F7/A', 'Cm6']</td>\n",
       "    </tr>\n",
       "  </tbody>\n",
       "</table>\n",
       "<p>100 rows × 4 columns</p>\n",
       "</div>"
      ],
      "text/plain": [
       "    Genre                                             Chords First Chord  \\\n",
       "0   Blues                                       ['Gm7', 'G']           G   \n",
       "1   Blues        ['Dm7b5/C', 'Cmaj7', 'Gm7', 'F/C', 'Cmaj7']           D   \n",
       "2   Blues                      ['E7', 'A7', 'Em', 'Bm7b5/A']           E   \n",
       "3   Blues                                      ['E7', 'Em7']           E   \n",
       "4   Blues                         ['Fm', 'Cm', 'Bb/F', 'Fm']           F   \n",
       "..    ...                                                ...         ...   \n",
       "95  Blues  ['F#m7', 'Bmaj7', 'Gm6', 'Abdim', 'A/C#', 'F#/...           F   \n",
       "96  Blues  ['E', 'A', 'E', 'Emaj7', 'E', 'F#7', 'Emaj7', ...           E   \n",
       "97  Blues  ['Bm', 'F#m7b5/E', 'Gmaj7', 'Cmaj7', 'F#m', 'G...           B   \n",
       "98  Blues  ['C7', 'F7', 'Am7b5/G', 'C7', 'G7', 'F7', 'C7'...           C   \n",
       "99  Blues  ['Gm6', 'F7/A', 'Cm6', 'Bb/C', 'F7/A', 'Cm7', ...           G   \n",
       "\n",
       "            Most Popular Chords  \n",
       "0                           Gm7  \n",
       "1   ['Dm7b5/C', 'Cmaj7', 'Gm7']  \n",
       "2            ['E7', 'A7', 'Em']  \n",
       "3                            E7  \n",
       "4          ['Fm', 'Cm', 'Bb/F']  \n",
       "..                          ...  \n",
       "95     ['F#m7', 'Bmaj7', 'Gm6']  \n",
       "96          ['E', 'A', 'Emaj7']  \n",
       "97  ['Bm', 'F#m7b5/E', 'Gmaj7']  \n",
       "98      ['C7', 'F7', 'Am7b5/G']  \n",
       "99       ['Gm6', 'F7/A', 'Cm6']  \n",
       "\n",
       "[100 rows x 4 columns]"
      ]
     },
     "execution_count": 42,
     "metadata": {},
     "output_type": "execute_result"
    }
   ],
   "source": [
    "blues_df"
   ]
  },
  {
   "cell_type": "markdown",
   "metadata": {},
   "source": [
    "## All chords in one dataset per genre"
   ]
  },
  {
   "cell_type": "code",
   "execution_count": 102,
   "metadata": {},
   "outputs": [],
   "source": [
    "def chords(df):\n",
    "    data = pd.DataFrame(columns = [\"Chords\"])\n",
    "    for i in range(df.shape[0]):\n",
    "        a = df.Chords.loc[i]\n",
    "        a = ast.literal_eval(a)\n",
    "        a = [n.strip() for n in a]\n",
    "        for j in range (len(a)):\n",
    "            #print(a[j])\n",
    "            data = data.append({\"Chords\" : a[j]}, ignore_index = True)\n",
    "    return data"
   ]
  },
  {
   "cell_type": "code",
   "execution_count": 128,
   "metadata": {},
   "outputs": [],
   "source": [
    "blues_chords = chords(blues_df)\n",
    "classical_chords = chords(classical_df)\n",
    "country_chords = chords(country_df)\n",
    "disco_chords = chords(disco_df)\n",
    "hiphop_chords = chords(hiphop_df)\n",
    "jazz_chords = chords(jazz_df)\n",
    "metal_chords = chords(metal_df)\n",
    "pop_chords = chords(pop_df)\n",
    "reggae_chords = chords(reggae_df)\n",
    "rock_chords = chords(rock_df)"
   ]
  },
  {
   "cell_type": "code",
   "execution_count": 176,
   "metadata": {},
   "outputs": [
    {
     "data": {
      "text/html": [
       "<div>\n",
       "<style scoped>\n",
       "    .dataframe tbody tr th:only-of-type {\n",
       "        vertical-align: middle;\n",
       "    }\n",
       "\n",
       "    .dataframe tbody tr th {\n",
       "        vertical-align: top;\n",
       "    }\n",
       "\n",
       "    .dataframe thead th {\n",
       "        text-align: right;\n",
       "    }\n",
       "</style>\n",
       "<table border=\"1\" class=\"dataframe\">\n",
       "  <thead>\n",
       "    <tr style=\"text-align: right;\">\n",
       "      <th></th>\n",
       "      <th>Chords</th>\n",
       "    </tr>\n",
       "  </thead>\n",
       "  <tbody>\n",
       "    <tr>\n",
       "      <th>0</th>\n",
       "      <td>Gm7</td>\n",
       "    </tr>\n",
       "    <tr>\n",
       "      <th>1</th>\n",
       "      <td>G</td>\n",
       "    </tr>\n",
       "    <tr>\n",
       "      <th>2</th>\n",
       "      <td>Dm7b5/C</td>\n",
       "    </tr>\n",
       "    <tr>\n",
       "      <th>3</th>\n",
       "      <td>Cmaj7</td>\n",
       "    </tr>\n",
       "    <tr>\n",
       "      <th>4</th>\n",
       "      <td>Gm7</td>\n",
       "    </tr>\n",
       "    <tr>\n",
       "      <th>...</th>\n",
       "      <td>...</td>\n",
       "    </tr>\n",
       "    <tr>\n",
       "      <th>755</th>\n",
       "      <td>Cm6</td>\n",
       "    </tr>\n",
       "    <tr>\n",
       "      <th>756</th>\n",
       "      <td>Bb/C</td>\n",
       "    </tr>\n",
       "    <tr>\n",
       "      <th>757</th>\n",
       "      <td>F7/A</td>\n",
       "    </tr>\n",
       "    <tr>\n",
       "      <th>758</th>\n",
       "      <td>Cm7</td>\n",
       "    </tr>\n",
       "    <tr>\n",
       "      <th>759</th>\n",
       "      <td>C7/E</td>\n",
       "    </tr>\n",
       "  </tbody>\n",
       "</table>\n",
       "<p>760 rows × 1 columns</p>\n",
       "</div>"
      ],
      "text/plain": [
       "      Chords\n",
       "0        Gm7\n",
       "1          G\n",
       "2    Dm7b5/C\n",
       "3      Cmaj7\n",
       "4        Gm7\n",
       "..       ...\n",
       "755      Cm6\n",
       "756     Bb/C\n",
       "757     F7/A\n",
       "758      Cm7\n",
       "759     C7/E\n",
       "\n",
       "[760 rows x 1 columns]"
      ]
     },
     "execution_count": 176,
     "metadata": {},
     "output_type": "execute_result"
    }
   ],
   "source": [
    "blues_chords"
   ]
  },
  {
   "cell_type": "code",
   "execution_count": 173,
   "metadata": {},
   "outputs": [
    {
     "data": {
      "text/plain": [
       "109"
      ]
     },
     "execution_count": 173,
     "metadata": {},
     "output_type": "execute_result"
    }
   ],
   "source": [
    "reggae_chords[\"Chords\"].nunique()"
   ]
  },
  {
   "cell_type": "code",
   "execution_count": 175,
   "metadata": {},
   "outputs": [
    {
     "data": {
      "text/plain": [
       "Bb         33\n",
       "F          32\n",
       "E          22\n",
       "Eb7        18\n",
       "C7         17\n",
       "           ..\n",
       "Dm7b5       1\n",
       "B/A         1\n",
       "Am7b5/G     1\n",
       "Ddim        1\n",
       "Fm7b5       1\n",
       "Name: Chords, Length: 140, dtype: int64"
      ]
     },
     "execution_count": 175,
     "metadata": {},
     "output_type": "execute_result"
    }
   ],
   "source": [
    "blues_chords[\"Chords\"].value_counts()"
   ]
  },
  {
   "cell_type": "markdown",
   "metadata": {},
   "source": [
    "## Graphs to illustrate main chords per genre"
   ]
  },
  {
   "cell_type": "code",
   "execution_count": 146,
   "metadata": {},
   "outputs": [],
   "source": [
    "import matplotlib.pyplot as plt\n",
    "def plot_main_chords(df, name):\n",
    "    plt.figure(figsize=(8,8))\n",
    "    df.Chords.value_counts(normalize = True)[:10].plot.bar()\n",
    "    plt.xlabel(\"Chords\")\n",
    "    plt.ylabel(\"Normalised count\")\n",
    "    plt.title(label=name,\n",
    "          fontsize=20,\n",
    "          color=\"green\")"
   ]
  },
  {
   "cell_type": "code",
   "execution_count": 147,
   "metadata": {},
   "outputs": [
    {
     "data": {
      "image/png": "[encoded data removed]",
      "text/plain": [
       "<Figure size 576x576 with 1 Axes>"
      ]
     },
     "metadata": {
      "needs_background": "light"
     },
     "output_type": "display_data"
    },
    {
     "data": {
      "image/png": "[encoded data removed]",
      "text/plain": [
       "<Figure size 576x576 with 1 Axes>"
      ]
     },
     "metadata": {
      "needs_background": "light"
     },
     "output_type": "display_data"
    },
    {
     "data": {
      "image/png": "[encoded data removed]",
      "text/plain": [
       "<Figure size 576x576 with 1 Axes>"
      ]
     },
     "metadata": {
      "needs_background": "light"
     },
     "output_type": "display_data"
    },
    {
     "data": {
      "image/png": "[encoded data removed]",
      "text/plain": [
       "<Figure size 576x576 with 1 Axes>"
      ]
     },
     "metadata": {
      "needs_background": "light"
     },
     "output_type": "display_data"
    },
    {
     "data": {
      "image/png": "[encoded data removed]",
      "text/plain": [
       "<Figure size 576x576 with 1 Axes>"
      ]
     },
     "metadata": {
      "needs_background": "light"
     },
     "output_type": "display_data"
    },
    {
     "data": {
      "image/png": "[encoded data removed]",
      "text/plain": [
       "<Figure size 576x576 with 1 Axes>"
      ]
     },
     "metadata": {
      "needs_background": "light"
     },
     "output_type": "display_data"
    },
    {
     "data": {
      "image/png": "[encoded data removed]",
      "text/plain": [
       "<Figure size 576x576 with 1 Axes>"
      ]
     },
     "metadata": {
      "needs_background": "light"
     },
     "output_type": "display_data"
    },
    {
     "data": {
      "image/png": "[encoded data removed]",
      "text/plain": [
       "<Figure size 576x576 with 1 Axes>"
      ]
     },
     "metadata": {
      "needs_background": "light"
     },
     "output_type": "display_data"
    },
    {
     "data": {
      "image/png": "[encoded data removed]",
      "text/plain": [
       "<Figure size 576x576 with 1 Axes>"
      ]
     },
     "metadata": {
      "needs_background": "light"
     },
     "output_type": "display_data"
    },
    {
     "data": {
      "image/png": "[encoded data removed]",
      "text/plain": [
       "<Figure size 576x576 with 1 Axes>"
      ]
     },
     "metadata": {
      "needs_background": "light"
     },
     "output_type": "display_data"
    }
   ],
   "source": [
    "dataframes = [blues_chords, classical_chords, country_chords, disco_chords, hiphop_chords, jazz_chords, metal_chords, pop_chords, reggae_chords, rock_chords]\n",
    "name = [\"blues\", \"classical\", \"country\", \"disco\", \"hiphop\", \"jazz\", \"metal\", \"pop\", \"reggae\", \"rock\"]\n",
    "for i in range(len(dataframes)):\n",
    "    plot_main_chords(dataframes[i], name[i])"
   ]
  },
  {
   "cell_type": "markdown",
   "metadata": {},
   "source": [
    "### Country\n",
    "Based on the results, we could say that for genre country most popular chords were G, D, A, C. When we put these chords into chord progression, we can see that it basically follows the main chord progerssion for country music. I IV V. In our case G (I), C(IV) and D (V).\n",
    "\n",
    "### Blues\n",
    "The most popular chords were Bb and F, which could indicate that key of the song could either of that and harmonic functions I and IV or I and V, which is follows the main harmonic progression. I I I I IV IV I I V IV I I. In blues genre more dominant chords should dominate, because main progession includes everywhere the 7th.\n",
    "\n",
    "### Classical\n",
    "Classical music chords is hard to interpret, because classical music sheet music doesm´t contain chords written above the note lines.\n",
    "\n",
    "### Hiphop\n",
    "It was interesting that main chords did contain 7th and major7.\n",
    "\n",
    "### Jazz\n",
    "For jazz music II-V-I progression is must have. And If we look the most popular chords, the Dm7 could be (II) in major and G(V) and C (I). Dm7 could be also with minor key song, being then I. \n",
    "\n",
    "### Metal\n",
    "Can be diatonical and not \n",
    " i - VI - III - VII,  i - VI or i - v\n",
    "\n",
    "### Pop\n",
    "Usually pop songs have chords like sus2, sus4 or add2, which characterize the genre, but in this case only major chords dominated.\n",
    "\n",
    "### Reggae\n",
    "Similar to country, it seems that there is progression C F G (I, IV, V). \n",
    "\n",
    "### Rock\n",
    "First five chords can characterize the genre, because usually simple chords are used, even only chords which include the interval perfect fifth.\n",
    "\n",
    "In conclusion, these genres mostly use major and minor triad and progression I IV V could be common.\n",
    "But to make overall conclusions, the dataset was too small, only 30 s clips from different parts of songs, because of that we could´t transpos chords to the same key."
   ]
  },
  {
   "cell_type": "markdown",
   "metadata": {},
   "source": [
    "## All chords into one dataframe"
   ]
  },
  {
   "cell_type": "code",
   "execution_count": 149,
   "metadata": {},
   "outputs": [],
   "source": [
    "df_all = pd.DataFrame(columns = [\"Genre\", \"Chords\"])"
   ]
  },
  {
   "cell_type": "code",
   "execution_count": 150,
   "metadata": {},
   "outputs": [],
   "source": [
    "def add(genre, df, full_df): #Method to add all subdataframes to a big dataframe containing song genres and chords\n",
    "    for i in range(df.shape[0]):\n",
    "        a = df.Chords.loc[i]\n",
    "        a = ast.literal_eval(a)\n",
    "        a = [n.strip() for n in a]\n",
    "        full_df = full_df.append({\"Genre\" : genre, \"Chords\" : a}, ignore_index = True)\n",
    "    return full_df"
   ]
  },
  {
   "cell_type": "code",
   "execution_count": 152,
   "metadata": {},
   "outputs": [],
   "source": [
    "df_all = add(\"Blues\", blues_df, df_all)"
   ]
  },
  {
   "cell_type": "code",
   "execution_count": 154,
   "metadata": {},
   "outputs": [],
   "source": [
    "df_all = add(\"Classical\", classical_df, df_all)"
   ]
  },
  {
   "cell_type": "code",
   "execution_count": 156,
   "metadata": {},
   "outputs": [],
   "source": [
    "df_all = add(\"Country\", country_df, df_all)"
   ]
  },
  {
   "cell_type": "code",
   "execution_count": 157,
   "metadata": {},
   "outputs": [],
   "source": [
    "df_all = add(\"Disco\", disco_df, df_all)\n",
    "df_all = add(\"Hiphop\", hiphop_df, df_all)\n",
    "df_all = add(\"Jazz\", jazz_df, df_all)\n",
    "df_all = add(\"Metal\", metal_df, df_all)\n",
    "df_all = add(\"Pop\", pop_df, df_all)\n",
    "df_all = add(\"Reggae\", reggae_df, df_all)\n",
    "df_all = add(\"Rock\", rock_df, df_all)"
   ]
  },
  {
   "cell_type": "code",
   "execution_count": 158,
   "metadata": {},
   "outputs": [
    {
     "data": {
      "text/html": [
       "<div>\n",
       "<style scoped>\n",
       "    .dataframe tbody tr th:only-of-type {\n",
       "        vertical-align: middle;\n",
       "    }\n",
       "\n",
       "    .dataframe tbody tr th {\n",
       "        vertical-align: top;\n",
       "    }\n",
       "\n",
       "    .dataframe thead th {\n",
       "        text-align: right;\n",
       "    }\n",
       "</style>\n",
       "<table border=\"1\" class=\"dataframe\">\n",
       "  <thead>\n",
       "    <tr style=\"text-align: right;\">\n",
       "      <th></th>\n",
       "      <th>Genre</th>\n",
       "      <th>Chords</th>\n",
       "    </tr>\n",
       "  </thead>\n",
       "  <tbody>\n",
       "    <tr>\n",
       "      <th>0</th>\n",
       "      <td>Blues</td>\n",
       "      <td>[Gm7, G]</td>\n",
       "    </tr>\n",
       "    <tr>\n",
       "      <th>1</th>\n",
       "      <td>Blues</td>\n",
       "      <td>[Dm7b5/C, Cmaj7, Gm7, F/C, Cmaj7]</td>\n",
       "    </tr>\n",
       "    <tr>\n",
       "      <th>2</th>\n",
       "      <td>Blues</td>\n",
       "      <td>[E7, A7, Em, Bm7b5/A]</td>\n",
       "    </tr>\n",
       "    <tr>\n",
       "      <th>3</th>\n",
       "      <td>Blues</td>\n",
       "      <td>[E7, Em7]</td>\n",
       "    </tr>\n",
       "    <tr>\n",
       "      <th>4</th>\n",
       "      <td>Blues</td>\n",
       "      <td>[Fm, Cm, Bb/F, Fm]</td>\n",
       "    </tr>\n",
       "    <tr>\n",
       "      <th>...</th>\n",
       "      <td>...</td>\n",
       "      <td>...</td>\n",
       "    </tr>\n",
       "    <tr>\n",
       "      <th>975</th>\n",
       "      <td>Rock</td>\n",
       "      <td>[D, G, D, Gmaj7, D, G]</td>\n",
       "    </tr>\n",
       "    <tr>\n",
       "      <th>976</th>\n",
       "      <td>Rock</td>\n",
       "      <td>[A, C#m, D, E, A, C#m]</td>\n",
       "    </tr>\n",
       "    <tr>\n",
       "      <th>977</th>\n",
       "      <td>Rock</td>\n",
       "      <td>[B, Gmaj7, Em7, D, C6, B, G, D, C]</td>\n",
       "    </tr>\n",
       "    <tr>\n",
       "      <th>978</th>\n",
       "      <td>Rock</td>\n",
       "      <td>[C6, F, C6, G, C/G, F, C6]</td>\n",
       "    </tr>\n",
       "    <tr>\n",
       "      <th>979</th>\n",
       "      <td>Rock</td>\n",
       "      <td>[B, A, E/B, E, B, A, B, E, B]</td>\n",
       "    </tr>\n",
       "  </tbody>\n",
       "</table>\n",
       "<p>980 rows × 2 columns</p>\n",
       "</div>"
      ],
      "text/plain": [
       "     Genre                              Chords\n",
       "0    Blues                            [Gm7, G]\n",
       "1    Blues   [Dm7b5/C, Cmaj7, Gm7, F/C, Cmaj7]\n",
       "2    Blues               [E7, A7, Em, Bm7b5/A]\n",
       "3    Blues                           [E7, Em7]\n",
       "4    Blues                  [Fm, Cm, Bb/F, Fm]\n",
       "..     ...                                 ...\n",
       "975   Rock              [D, G, D, Gmaj7, D, G]\n",
       "976   Rock              [A, C#m, D, E, A, C#m]\n",
       "977   Rock  [B, Gmaj7, Em7, D, C6, B, G, D, C]\n",
       "978   Rock          [C6, F, C6, G, C/G, F, C6]\n",
       "979   Rock       [B, A, E/B, E, B, A, B, E, B]\n",
       "\n",
       "[980 rows x 2 columns]"
      ]
     },
     "execution_count": 158,
     "metadata": {},
     "output_type": "execute_result"
    }
   ],
   "source": [
    "df_all"
   ]
  },
  {
   "cell_type": "code",
   "execution_count": 159,
   "metadata": {},
   "outputs": [],
   "source": [
    "df_all.to_csv (r'C:\\Users\\georg\\Desktop\\Muusika andmeanalüütika\\MIR\\src\\Music_all.csv', index = False, header=True)"
   ]
  },
  {
   "cell_type": "code",
   "execution_count": null,
   "metadata": {},
   "outputs": [],
   "source": []
  }
 ],
 "metadata": {
  "kernelspec": {
   "display_name": "Python 3",
   "language": "python",
   "name": "python3"
  },
  "language_info": {
   "codemirror_mode": {
    "name": "ipython",
    "version": 3
   },
   "file_extension": ".py",
   "mimetype": "text/x-python",
   "name": "python",
   "nbconvert_exporter": "python",
   "pygments_lexer": "ipython3",
   "version": "3.8.3"
  }
 },
 "nbformat": 4,
 "nbformat_minor": 4
}
