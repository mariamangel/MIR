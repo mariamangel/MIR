{
 "cells": [
  {
   "cell_type": "markdown",
   "metadata": {},
   "source": [
    "<h3>Dataframe creation<h3>"
   ]
  },
  {
   "cell_type": "markdown",
   "metadata": {},
   "source": [
    "<b>First we found out how to get all the chords into one dataframe<b><br>\n",
    " \n",
    "Then, we created dataframe with 4 columns (Genre, Chords, First Chord, Most Popular Chords)<br>\n",
    "We assumed that the key of the song is first chord, because the music files were 30 s long and did not start from the same place (like intro, verse, chorus or bridge).<br>\n",
    "For \"Most Popular Chrods\" we had two approaches:<br>\n",
    "   1) In there were less than 3 chords => we took only first chord<br>\n",
    "   2) Else, we count the repeting values => from dictionary, we took three first chords<p><br>\n",
    "\n",
    "<b>At the end we saved the dataframe to csv file, in order to start working with the data."
   ]
  },
  {
   "cell_type": "markdown",
   "metadata": {},
   "source": [
    "Creating empty dataframe"
   ]
  },
  {
   "cell_type": "code",
   "execution_count": 45,
   "metadata": {},
   "outputs": [],
   "source": [
    "import pandas as pd"
   ]
  },
  {
   "cell_type": "code",
   "execution_count": 46,
   "metadata": {},
   "outputs": [],
   "source": [
    "df = pd.DataFrame(columns=['Genre','Chords','First Chord', 'Most Popular Chords'])"
   ]
  },
  {
   "cell_type": "markdown",
   "metadata": {},
   "source": [
    "Loading data from files"
   ]
  },
  {
   "cell_type": "code",
   "execution_count": 47,
   "metadata": {},
   "outputs": [],
   "source": [
    "#df = pd.read_csv (r'C:\\Users\\georg\\Desktop\\Muusika andmeanalüütika\\MIR\\chords_all_gtzan\\blues.00000_vamp_nnls-chroma_chordino_simplechord.csv') \n",
    "#df"
   ]
  },
  {
   "cell_type": "code",
   "execution_count": 48,
   "metadata": {},
   "outputs": [],
   "source": [
    "#colnames = ['time', 'chords']\n",
    "#df = pd.read_csv(beginning + '00' + ending, names=colnames)\n",
    "#chords = df.chords.tolist()\n",
    "#chords"
   ]
  },
  {
   "cell_type": "markdown",
   "metadata": {},
   "source": [
    "path parts:"
   ]
  },
  {
   "cell_type": "code",
   "execution_count": 49,
   "metadata": {},
   "outputs": [],
   "source": [
    "beginning = r\"C:\\Users\\georg\\Desktop\\Muusika andmeanalüütika\\MIR\\chords_all_gtzan\\classical.000\"\n",
    "ending = '_vamp_nnls-chroma_chordino_simplechord.csv'"
   ]
  },
  {
   "cell_type": "markdown",
   "metadata": {},
   "source": [
    "Getting all blues songs chords line by line => one song chord list => dataframe"
   ]
  },
  {
   "cell_type": "code",
   "execution_count": 50,
   "metadata": {},
   "outputs": [
    {
     "data": {
      "text/html": [
       "<div>\n",
       "<style scoped>\n",
       "    .dataframe tbody tr th:only-of-type {\n",
       "        vertical-align: middle;\n",
       "    }\n",
       "\n",
       "    .dataframe tbody tr th {\n",
       "        vertical-align: top;\n",
       "    }\n",
       "\n",
       "    .dataframe thead th {\n",
       "        text-align: right;\n",
       "    }\n",
       "</style>\n",
       "<table border=\"1\" class=\"dataframe\">\n",
       "  <thead>\n",
       "    <tr style=\"text-align: right;\">\n",
       "      <th></th>\n",
       "      <th>Genre</th>\n",
       "      <th>Chords</th>\n",
       "      <th>First Chord</th>\n",
       "      <th>Most Popular Chords</th>\n",
       "    </tr>\n",
       "  </thead>\n",
       "  <tbody>\n",
       "    <tr>\n",
       "      <th>0</th>\n",
       "      <td>Blues</td>\n",
       "      <td>[Gm7, G]</td>\n",
       "      <td>G</td>\n",
       "      <td>NaN</td>\n",
       "    </tr>\n",
       "    <tr>\n",
       "      <th>1</th>\n",
       "      <td>Blues</td>\n",
       "      <td>[Dm7b5/C, Cmaj7, Gm7, F/C, Cmaj7]</td>\n",
       "      <td>D</td>\n",
       "      <td>NaN</td>\n",
       "    </tr>\n",
       "    <tr>\n",
       "      <th>2</th>\n",
       "      <td>Blues</td>\n",
       "      <td>[E7, A7, Em, Bm7b5/A]</td>\n",
       "      <td>E</td>\n",
       "      <td>NaN</td>\n",
       "    </tr>\n",
       "    <tr>\n",
       "      <th>3</th>\n",
       "      <td>Blues</td>\n",
       "      <td>[E7, Em7]</td>\n",
       "      <td>E</td>\n",
       "      <td>NaN</td>\n",
       "    </tr>\n",
       "    <tr>\n",
       "      <th>4</th>\n",
       "      <td>Blues</td>\n",
       "      <td>[Fm, Cm, Bb/F, Fm]</td>\n",
       "      <td>F</td>\n",
       "      <td>NaN</td>\n",
       "    </tr>\n",
       "    <tr>\n",
       "      <th>...</th>\n",
       "      <td>...</td>\n",
       "      <td>...</td>\n",
       "      <td>...</td>\n",
       "      <td>...</td>\n",
       "    </tr>\n",
       "    <tr>\n",
       "      <th>95</th>\n",
       "      <td>Blues</td>\n",
       "      <td>[F#m7, Bmaj7, Gm6, Abdim, A/C#, F#/C#, Bmaj7, ...</td>\n",
       "      <td>F</td>\n",
       "      <td>NaN</td>\n",
       "    </tr>\n",
       "    <tr>\n",
       "      <th>96</th>\n",
       "      <td>Blues</td>\n",
       "      <td>[E, A, E, Emaj7, E, F#7, Emaj7, Amaj7, E]</td>\n",
       "      <td>E</td>\n",
       "      <td>NaN</td>\n",
       "    </tr>\n",
       "    <tr>\n",
       "      <th>97</th>\n",
       "      <td>Blues</td>\n",
       "      <td>[Bm, F#m7b5/E, Gmaj7, Cmaj7, F#m, Gmaj7, C, F#...</td>\n",
       "      <td>B</td>\n",
       "      <td>NaN</td>\n",
       "    </tr>\n",
       "    <tr>\n",
       "      <th>98</th>\n",
       "      <td>Blues</td>\n",
       "      <td>[C7, F7, Am7b5/G, C7, G7, F7, C7, Gm7, C7, F7]</td>\n",
       "      <td>C</td>\n",
       "      <td>NaN</td>\n",
       "    </tr>\n",
       "    <tr>\n",
       "      <th>99</th>\n",
       "      <td>Blues</td>\n",
       "      <td>[Gm6, F7/A, Cm6, Bb/C, F7/A, Cm7, C7/E]</td>\n",
       "      <td>G</td>\n",
       "      <td>NaN</td>\n",
       "    </tr>\n",
       "  </tbody>\n",
       "</table>\n",
       "<p>100 rows × 4 columns</p>\n",
       "</div>"
      ],
      "text/plain": [
       "    Genre                                             Chords First Chord  \\\n",
       "0   Blues                                           [Gm7, G]           G   \n",
       "1   Blues                  [Dm7b5/C, Cmaj7, Gm7, F/C, Cmaj7]           D   \n",
       "2   Blues                              [E7, A7, Em, Bm7b5/A]           E   \n",
       "3   Blues                                          [E7, Em7]           E   \n",
       "4   Blues                                 [Fm, Cm, Bb/F, Fm]           F   \n",
       "..    ...                                                ...         ...   \n",
       "95  Blues  [F#m7, Bmaj7, Gm6, Abdim, A/C#, F#/C#, Bmaj7, ...           F   \n",
       "96  Blues          [E, A, E, Emaj7, E, F#7, Emaj7, Amaj7, E]           E   \n",
       "97  Blues  [Bm, F#m7b5/E, Gmaj7, Cmaj7, F#m, Gmaj7, C, F#...           B   \n",
       "98  Blues     [C7, F7, Am7b5/G, C7, G7, F7, C7, Gm7, C7, F7]           C   \n",
       "99  Blues            [Gm6, F7/A, Cm6, Bb/C, F7/A, Cm7, C7/E]           G   \n",
       "\n",
       "   Most Popular Chords  \n",
       "0                  NaN  \n",
       "1                  NaN  \n",
       "2                  NaN  \n",
       "3                  NaN  \n",
       "4                  NaN  \n",
       "..                 ...  \n",
       "95                 NaN  \n",
       "96                 NaN  \n",
       "97                 NaN  \n",
       "98                 NaN  \n",
       "99                 NaN  \n",
       "\n",
       "[100 rows x 4 columns]"
      ]
     },
     "execution_count": 50,
     "metadata": {},
     "output_type": "execute_result"
    }
   ],
   "source": [
    "from csv import reader\n",
    "for i in range(10):\n",
    "    for k in range(10):\n",
    "    # open file in read mode\n",
    "        with open(beginning + str(i) + str(k) + ending) as read_obj:\n",
    "            chords = []\n",
    "            # pass the file object to reader() to get the reader object\n",
    "            csv_reader = reader(read_obj)\n",
    "            # Iterate over each row in the csv using reader object\n",
    "            for row in csv_reader:\n",
    "                # second column value => adding to list\n",
    "                chords.append(row[1])\n",
    "            #print(chords)\n",
    "            chords.remove('N')\n",
    "            chords.remove(\"N\")\n",
    "            new_row = {'Genre':'Blues', 'Chords':chords, 'First Chord':chords[0][0]}#First Chord letter => key of song\n",
    "            #append row to the dataframe\n",
    "            df = df.append(new_row, ignore_index=True)\n",
    "df"
   ]
  },
  {
   "cell_type": "code",
   "execution_count": 51,
   "metadata": {
    "scrolled": true
   },
   "outputs": [
    {
     "name": "stdout",
     "output_type": "stream",
     "text": [
      "['Gm6', 'F7/A', 'Cm6', 'Bb/C', 'F7/A', 'Cm7', 'C7/E']\n"
     ]
    },
    {
     "data": {
      "text/plain": [
       "['Gm6', 'F7/A', 'Cm6']"
      ]
     },
     "execution_count": 51,
     "metadata": {},
     "output_type": "execute_result"
    }
   ],
   "source": [
    "#code for finding most popular chords\n",
    "from collections import Counter\n",
    "print(chords)\n",
    "if(len(chords) < 3):\n",
    "    most_popular = chords[0]\n",
    "else:\n",
    "    for i in range(len(chords)):\n",
    "        a = dict(Counter(chords))\n",
    "        most_popular = list(a.keys())[:3]\n",
    "\n",
    "most_popular"
   ]
  },
  {
   "cell_type": "code",
   "execution_count": null,
   "metadata": {},
   "outputs": [],
   "source": [
    "# key = [esimene]\n",
    "# a = key.split(kõik tähed eraldi)\n",
    "# if = 6 or 7:\n",
    "#     key = a[0]\n",
    "#  else: key = a[0] + a[1]\n",
    "#"
   ]
  },
  {
   "cell_type": "code",
   "execution_count": 80,
   "metadata": {},
   "outputs": [],
   "source": [
    "df_uus = pd.DataFrame(columns=['Genre','Chords','First Chord', 'Most Popular Chords'])"
   ]
  },
  {
   "cell_type": "code",
   "execution_count": 81,
   "metadata": {},
   "outputs": [],
   "source": [
    "beginning = r\"C:\\Users\\georg\\Desktop\\Muusika andmeanalüütika\\MIR\\chords_all_gtzan\\disco.000\"\n",
    "ending = '_vamp_nnls-chroma_chordino_simplechord.csv'"
   ]
  },
  {
   "cell_type": "code",
   "execution_count": 82,
   "metadata": {},
   "outputs": [
    {
     "ename": "IndexError",
     "evalue": "list index out of range",
     "output_type": "error",
     "traceback": [
      "\u001b[1;31m---------------------------------------------------------------------------\u001b[0m",
      "\u001b[1;31mIndexError\u001b[0m                                Traceback (most recent call last)",
      "\u001b[1;32m<ipython-input-82-e6d2e27f806b>\u001b[0m in \u001b[0;36m<module>\u001b[1;34m\u001b[0m\n\u001b[0;32m     17\u001b[0m             \u001b[0mchords\u001b[0m\u001b[1;33m.\u001b[0m\u001b[0mremove\u001b[0m\u001b[1;33m(\u001b[0m\u001b[1;34m'N'\u001b[0m\u001b[1;33m)\u001b[0m\u001b[1;33m\u001b[0m\u001b[1;33m\u001b[0m\u001b[0m\n\u001b[0;32m     18\u001b[0m             \u001b[1;32mif\u001b[0m\u001b[1;33m(\u001b[0m\u001b[0mlen\u001b[0m\u001b[1;33m(\u001b[0m\u001b[0mchords\u001b[0m\u001b[1;33m)\u001b[0m \u001b[1;33m<\u001b[0m \u001b[1;36m3\u001b[0m\u001b[1;33m)\u001b[0m\u001b[1;33m:\u001b[0m\u001b[1;33m\u001b[0m\u001b[1;33m\u001b[0m\u001b[0m\n\u001b[1;32m---> 19\u001b[1;33m                 \u001b[0mmost_popular\u001b[0m \u001b[1;33m=\u001b[0m \u001b[0mchords\u001b[0m\u001b[1;33m[\u001b[0m\u001b[1;36m0\u001b[0m\u001b[1;33m]\u001b[0m\u001b[1;33m\u001b[0m\u001b[1;33m\u001b[0m\u001b[0m\n\u001b[0m\u001b[0;32m     20\u001b[0m             \u001b[1;32melse\u001b[0m\u001b[1;33m:\u001b[0m\u001b[1;33m\u001b[0m\u001b[1;33m\u001b[0m\u001b[0m\n\u001b[0;32m     21\u001b[0m                 \u001b[0ma\u001b[0m \u001b[1;33m=\u001b[0m \u001b[0mdict\u001b[0m\u001b[1;33m(\u001b[0m\u001b[0mCounter\u001b[0m\u001b[1;33m(\u001b[0m\u001b[0mchords\u001b[0m\u001b[1;33m)\u001b[0m\u001b[1;33m)\u001b[0m\u001b[1;33m\u001b[0m\u001b[1;33m\u001b[0m\u001b[0m\n",
      "\u001b[1;31mIndexError\u001b[0m: list index out of range"
     ]
    }
   ],
   "source": [
    "#Getting all blues song chords => list => dataframe\n",
    "from collections import Counter\n",
    "from csv import reader\n",
    "for i in range(10):\n",
    "    for k in range(10):\n",
    "    # open file in read mode\n",
    "        with open(beginning + str(i) + str(k) + ending) as read_obj:\n",
    "            chords = []\n",
    "            # pass the file object to reader() to get the reader object\n",
    "            csv_reader = reader(read_obj)\n",
    "            # Iterate over each row in the csv using reader object\n",
    "            for row in csv_reader:\n",
    "                # second column value => adding to list\n",
    "                chords.append(row[1])\n",
    "            #print(chords)\n",
    "            chords.remove('N')\n",
    "            chords.remove('N')\n",
    "            if(len(chords) < 3):\n",
    "                if(len(chords) > 0):\n",
    "                    most_popular = chords[0]\n",
    "            else:\n",
    "                a = dict(Counter(chords))\n",
    "                most_popular = list(a.keys())[:3]\n",
    "            #First Chord letter => key of song\n",
    "            if len(chords) > 0:\n",
    "                new_row = {'Genre':'Disco', 'Chords':chords, 'First Chord':chords[0][0], 'Most Popular Chords':most_popular}\n",
    "            #append row to the dataframe\n",
    "                df_uus = df_uus.append(new_row, ignore_index=True)\n",
    "#millegi pärast läheb katki"
   ]
  },
  {
   "cell_type": "markdown",
   "metadata": {},
   "source": [
    "Saving dataframe to csv file"
   ]
  },
  {
   "cell_type": "code",
   "execution_count": 77,
   "metadata": {},
   "outputs": [
    {
     "data": {
      "text/html": [
       "<div>\n",
       "<style scoped>\n",
       "    .dataframe tbody tr th:only-of-type {\n",
       "        vertical-align: middle;\n",
       "    }\n",
       "\n",
       "    .dataframe tbody tr th {\n",
       "        vertical-align: top;\n",
       "    }\n",
       "\n",
       "    .dataframe thead th {\n",
       "        text-align: right;\n",
       "    }\n",
       "</style>\n",
       "<table border=\"1\" class=\"dataframe\">\n",
       "  <thead>\n",
       "    <tr style=\"text-align: right;\">\n",
       "      <th></th>\n",
       "      <th>Genre</th>\n",
       "      <th>Chords</th>\n",
       "      <th>First Chord</th>\n",
       "      <th>Most Popular Chords</th>\n",
       "    </tr>\n",
       "  </thead>\n",
       "  <tbody>\n",
       "    <tr>\n",
       "      <th>0</th>\n",
       "      <td>Country</td>\n",
       "      <td>[F#m6, D6, E6, D6, F#, B6, Ebm, Abm7, F#, B6]</td>\n",
       "      <td>F</td>\n",
       "      <td>[F#m6, D6, E6]</td>\n",
       "    </tr>\n",
       "    <tr>\n",
       "      <th>1</th>\n",
       "      <td>Country</td>\n",
       "      <td>[B, F#, E, F#, E6, F#, E, F#, Emaj7, F#]</td>\n",
       "      <td>B</td>\n",
       "      <td>[B, F#, E]</td>\n",
       "    </tr>\n",
       "    <tr>\n",
       "      <th>2</th>\n",
       "      <td>Country</td>\n",
       "      <td>[A, D, A, E, A, B7, A, D, Amaj7, B6]</td>\n",
       "      <td>A</td>\n",
       "      <td>[A, D, E]</td>\n",
       "    </tr>\n",
       "    <tr>\n",
       "      <th>3</th>\n",
       "      <td>Country</td>\n",
       "      <td>[C, G, Am, D, C, G, D6, Am7, D, C, G]</td>\n",
       "      <td>C</td>\n",
       "      <td>[C, G, Am]</td>\n",
       "    </tr>\n",
       "    <tr>\n",
       "      <th>4</th>\n",
       "      <td>Country</td>\n",
       "      <td>[E, B, Amaj7, E/G#, F#m7, B, E, F#m7, B/F#, E,...</td>\n",
       "      <td>E</td>\n",
       "      <td>[E, B, Amaj7]</td>\n",
       "    </tr>\n",
       "    <tr>\n",
       "      <th>...</th>\n",
       "      <td>...</td>\n",
       "      <td>...</td>\n",
       "      <td>...</td>\n",
       "      <td>...</td>\n",
       "    </tr>\n",
       "    <tr>\n",
       "      <th>95</th>\n",
       "      <td>Country</td>\n",
       "      <td>[Eb, F, Bb6, F, Bb6, Ebmaj7, Gm, Cm, F/C]</td>\n",
       "      <td>E</td>\n",
       "      <td>[Eb, F, Bb6]</td>\n",
       "    </tr>\n",
       "    <tr>\n",
       "      <th>96</th>\n",
       "      <td>Country</td>\n",
       "      <td>[G, C, G, Cmaj7, C6, D, G, Cmaj7, G]</td>\n",
       "      <td>G</td>\n",
       "      <td>[G, C, Cmaj7]</td>\n",
       "    </tr>\n",
       "    <tr>\n",
       "      <th>97</th>\n",
       "      <td>Country</td>\n",
       "      <td>[F, C6, Gm7, F/A, Bb, F, Bb, F, Dm, C6, Gm7]</td>\n",
       "      <td>F</td>\n",
       "      <td>[F, C6, Gm7]</td>\n",
       "    </tr>\n",
       "    <tr>\n",
       "      <th>98</th>\n",
       "      <td>Country</td>\n",
       "      <td>[G, F, G, Cmaj7, C6, Dm7b5/C, C, Cmaj7, C6, F, G]</td>\n",
       "      <td>G</td>\n",
       "      <td>[G, F, Cmaj7]</td>\n",
       "    </tr>\n",
       "    <tr>\n",
       "      <th>99</th>\n",
       "      <td>Country</td>\n",
       "      <td>[B, F#, B, F#, B6, B7, Emaj7, C#7, F#7, Bm]</td>\n",
       "      <td>B</td>\n",
       "      <td>[B, F#, B6]</td>\n",
       "    </tr>\n",
       "  </tbody>\n",
       "</table>\n",
       "<p>100 rows × 4 columns</p>\n",
       "</div>"
      ],
      "text/plain": [
       "      Genre                                             Chords First Chord  \\\n",
       "0   Country      [F#m6, D6, E6, D6, F#, B6, Ebm, Abm7, F#, B6]           F   \n",
       "1   Country           [B, F#, E, F#, E6, F#, E, F#, Emaj7, F#]           B   \n",
       "2   Country               [A, D, A, E, A, B7, A, D, Amaj7, B6]           A   \n",
       "3   Country              [C, G, Am, D, C, G, D6, Am7, D, C, G]           C   \n",
       "4   Country  [E, B, Amaj7, E/G#, F#m7, B, E, F#m7, B/F#, E,...           E   \n",
       "..      ...                                                ...         ...   \n",
       "95  Country          [Eb, F, Bb6, F, Bb6, Ebmaj7, Gm, Cm, F/C]           E   \n",
       "96  Country               [G, C, G, Cmaj7, C6, D, G, Cmaj7, G]           G   \n",
       "97  Country       [F, C6, Gm7, F/A, Bb, F, Bb, F, Dm, C6, Gm7]           F   \n",
       "98  Country  [G, F, G, Cmaj7, C6, Dm7b5/C, C, Cmaj7, C6, F, G]           G   \n",
       "99  Country        [B, F#, B, F#, B6, B7, Emaj7, C#7, F#7, Bm]           B   \n",
       "\n",
       "   Most Popular Chords  \n",
       "0       [F#m6, D6, E6]  \n",
       "1           [B, F#, E]  \n",
       "2            [A, D, E]  \n",
       "3           [C, G, Am]  \n",
       "4        [E, B, Amaj7]  \n",
       "..                 ...  \n",
       "95        [Eb, F, Bb6]  \n",
       "96       [G, C, Cmaj7]  \n",
       "97        [F, C6, Gm7]  \n",
       "98       [G, F, Cmaj7]  \n",
       "99         [B, F#, B6]  \n",
       "\n",
       "[100 rows x 4 columns]"
      ]
     },
     "execution_count": 77,
     "metadata": {},
     "output_type": "execute_result"
    }
   ],
   "source": [
    "df_uus"
   ]
  },
  {
   "cell_type": "code",
   "execution_count": 78,
   "metadata": {},
   "outputs": [
    {
     "data": {
      "text/plain": [
       "G    18\n",
       "A    17\n",
       "E    15\n",
       "D    14\n",
       "F    13\n",
       "C    12\n",
       "B    11\n",
       "Name: First Chord, dtype: int64"
      ]
     },
     "execution_count": 78,
     "metadata": {},
     "output_type": "execute_result"
    }
   ],
   "source": [
    "df_uus[\"First Chord\"].value_counts()"
   ]
  },
  {
   "cell_type": "code",
   "execution_count": 79,
   "metadata": {},
   "outputs": [],
   "source": [
    "df_uus.to_csv (r'C:\\Users\\georg\\Desktop\\Muusika andmeanalüütika\\MIR\\src\\Country_df.csv', index = False, header=True)"
   ]
  },
  {
   "cell_type": "code",
   "execution_count": null,
   "metadata": {},
   "outputs": [],
   "source": [
    "#pip install pychord\n",
    "#from pychord import Chord\n",
    "#c = Chord(\"Am7\")\n",
    "#i = 1;\n",
    "#for i in range(12):\n",
    "    #c.transpose(1);\n",
    "    #i += 1;\n",
    "    #print(c)"
   ]
  }
 ],
 "metadata": {
  "kernelspec": {
   "display_name": "Python 3",
   "language": "python",
   "name": "python3"
  },
  "language_info": {
   "codemirror_mode": {
    "name": "ipython",
    "version": 3
   },
   "file_extension": ".py",
   "mimetype": "text/x-python",
   "name": "python",
   "nbconvert_exporter": "python",
   "pygments_lexer": "ipython3",
   "version": "3.8.3"
  }
 },
 "nbformat": 4,
 "nbformat_minor": 4
}
