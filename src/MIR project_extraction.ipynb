{
 "cells": [
  {
   "cell_type": "markdown",
   "metadata": {},
   "source": [
    "# Dataframe creation"
   ]
  },
  {
   "cell_type": "markdown",
   "metadata": {},
   "source": [
    "<b>First we found out how to get all the chords into one dataframe<b><br>\n",
    " \n",
    "Then, we created dataframe with 4 columns (Genre, Chords, First Chord, Most Popular Chords)<br>\n",
    "We assumed that the key of the song is first chord, because the music files were 30 s long and did not start from the same place (like intro, verse, chorus or bridge).<br>\n",
    "For \"Most Popular Chrods\" we had two approaches:<br>\n",
    "   1) In there were less than 3 chords => we took only first chord<br>\n",
    "   2) Else, we count the repeting values => from dictionary, we took three first chords<p><br>\n",
    "\n",
    "<b>At the end we saved the dataframe to csv file, in order to start working with the data."
   ]
  },
  {
   "cell_type": "markdown",
   "metadata": {},
   "source": [
    "Creating empty dataframe"
   ]
  },
  {
   "cell_type": "code",
   "execution_count": 45,
   "metadata": {},
   "outputs": [],
   "source": [
    "import pandas as pd"
   ]
  },
  {
   "cell_type": "code",
   "execution_count": 46,
   "metadata": {},
   "outputs": [],
   "source": [
    "df = pd.DataFrame(columns=['Genre','Chords','First Chord', 'Most Popular Chords'])"
   ]
  },
  {
   "cell_type": "markdown",
   "metadata": {},
   "source": [
    "Loading data from files"
   ]
  },
  {
   "cell_type": "code",
   "execution_count": 47,
   "metadata": {},
   "outputs": [],
   "source": [
    "#df = pd.read_csv (r'C:\\Users\\georg\\Desktop\\Muusika andmeanalüütika\\MIR\\chords_all_gtzan\\blues.00000_vamp_nnls-chroma_chordino_simplechord.csv') \n",
    "#df"
   ]
  },
  {
   "cell_type": "code",
   "execution_count": 48,
   "metadata": {},
   "outputs": [],
   "source": [
    "#colnames = ['time', 'chords']\n",
    "#df = pd.read_csv(beginning + '00' + ending, names=colnames)\n",
    "#chords = df.chords.tolist()\n",
    "#chords"
   ]
  },
  {
   "cell_type": "markdown",
   "metadata": {},
   "source": [
    "path parts:"
   ]
  },
  {
   "cell_type": "code",
   "execution_count": 49,
   "metadata": {},
   "outputs": [],
   "source": [
    "beginning = r\"C:\\Users\\georg\\Desktop\\Muusika andmeanalüütika\\MIR\\chords_all_gtzan\\classical.000\"\n",
    "ending = '_vamp_nnls-chroma_chordino_simplechord.csv'"
   ]
  },
  {
   "cell_type": "markdown",
   "metadata": {},
   "source": [
    "Getting all blues songs chords line by line => one song chord list => dataframe"
   ]
  },
  {
   "cell_type": "code",
   "execution_count": 50,
   "metadata": {},
   "outputs": [
    {
     "data": {
      "text/html": [
       "<div>\n",
       "<style scoped>\n",
       "    .dataframe tbody tr th:only-of-type {\n",
       "        vertical-align: middle;\n",
       "    }\n",
       "\n",
       "    .dataframe tbody tr th {\n",
       "        vertical-align: top;\n",
       "    }\n",
       "\n",
       "    .dataframe thead th {\n",
       "        text-align: right;\n",
       "    }\n",
       "</style>\n",
       "<table border=\"1\" class=\"dataframe\">\n",
       "  <thead>\n",
       "    <tr style=\"text-align: right;\">\n",
       "      <th></th>\n",
       "      <th>Genre</th>\n",
       "      <th>Chords</th>\n",
       "      <th>First Chord</th>\n",
       "      <th>Most Popular Chords</th>\n",
       "    </tr>\n",
       "  </thead>\n",
       "  <tbody>\n",
       "    <tr>\n",
       "      <th>0</th>\n",
       "      <td>Blues</td>\n",
       "      <td>[Gm7, G]</td>\n",
       "      <td>G</td>\n",
       "      <td>NaN</td>\n",
       "    </tr>\n",
       "    <tr>\n",
       "      <th>1</th>\n",
       "      <td>Blues</td>\n",
       "      <td>[Dm7b5/C, Cmaj7, Gm7, F/C, Cmaj7]</td>\n",
       "      <td>D</td>\n",
       "      <td>NaN</td>\n",
       "    </tr>\n",
       "    <tr>\n",
       "      <th>2</th>\n",
       "      <td>Blues</td>\n",
       "      <td>[E7, A7, Em, Bm7b5/A]</td>\n",
       "      <td>E</td>\n",
       "      <td>NaN</td>\n",
       "    </tr>\n",
       "    <tr>\n",
       "      <th>3</th>\n",
       "      <td>Blues</td>\n",
       "      <td>[E7, Em7]</td>\n",
       "      <td>E</td>\n",
       "      <td>NaN</td>\n",
       "    </tr>\n",
       "    <tr>\n",
       "      <th>4</th>\n",
       "      <td>Blues</td>\n",
       "      <td>[Fm, Cm, Bb/F, Fm]</td>\n",
       "      <td>F</td>\n",
       "      <td>NaN</td>\n",
       "    </tr>\n",
       "    <tr>\n",
       "      <th>...</th>\n",
       "      <td>...</td>\n",
       "      <td>...</td>\n",
       "      <td>...</td>\n",
       "      <td>...</td>\n",
       "    </tr>\n",
       "    <tr>\n",
       "      <th>95</th>\n",
       "      <td>Blues</td>\n",
       "      <td>[F#m7, Bmaj7, Gm6, Abdim, A/C#, F#/C#, Bmaj7, ...</td>\n",
       "      <td>F</td>\n",
       "      <td>NaN</td>\n",
       "    </tr>\n",
       "    <tr>\n",
       "      <th>96</th>\n",
       "      <td>Blues</td>\n",
       "      <td>[E, A, E, Emaj7, E, F#7, Emaj7, Amaj7, E]</td>\n",
       "      <td>E</td>\n",
       "      <td>NaN</td>\n",
       "    </tr>\n",
       "    <tr>\n",
       "      <th>97</th>\n",
       "      <td>Blues</td>\n",
       "      <td>[Bm, F#m7b5/E, Gmaj7, Cmaj7, F#m, Gmaj7, C, F#...</td>\n",
       "      <td>B</td>\n",
       "      <td>NaN</td>\n",
       "    </tr>\n",
       "    <tr>\n",
       "      <th>98</th>\n",
       "      <td>Blues</td>\n",
       "      <td>[C7, F7, Am7b5/G, C7, G7, F7, C7, Gm7, C7, F7]</td>\n",
       "      <td>C</td>\n",
       "      <td>NaN</td>\n",
       "    </tr>\n",
       "    <tr>\n",
       "      <th>99</th>\n",
       "      <td>Blues</td>\n",
       "      <td>[Gm6, F7/A, Cm6, Bb/C, F7/A, Cm7, C7/E]</td>\n",
       "      <td>G</td>\n",
       "      <td>NaN</td>\n",
       "    </tr>\n",
       "  </tbody>\n",
       "</table>\n",
       "<p>100 rows × 4 columns</p>\n",
       "</div>"
      ],
      "text/plain": [
       "    Genre                                             Chords First Chord  \\\n",
       "0   Blues                                           [Gm7, G]           G   \n",
       "1   Blues                  [Dm7b5/C, Cmaj7, Gm7, F/C, Cmaj7]           D   \n",
       "2   Blues                              [E7, A7, Em, Bm7b5/A]           E   \n",
       "3   Blues                                          [E7, Em7]           E   \n",
       "4   Blues                                 [Fm, Cm, Bb/F, Fm]           F   \n",
       "..    ...                                                ...         ...   \n",
       "95  Blues  [F#m7, Bmaj7, Gm6, Abdim, A/C#, F#/C#, Bmaj7, ...           F   \n",
       "96  Blues          [E, A, E, Emaj7, E, F#7, Emaj7, Amaj7, E]           E   \n",
       "97  Blues  [Bm, F#m7b5/E, Gmaj7, Cmaj7, F#m, Gmaj7, C, F#...           B   \n",
       "98  Blues     [C7, F7, Am7b5/G, C7, G7, F7, C7, Gm7, C7, F7]           C   \n",
       "99  Blues            [Gm6, F7/A, Cm6, Bb/C, F7/A, Cm7, C7/E]           G   \n",
       "\n",
       "   Most Popular Chords  \n",
       "0                  NaN  \n",
       "1                  NaN  \n",
       "2                  NaN  \n",
       "3                  NaN  \n",
       "4                  NaN  \n",
       "..                 ...  \n",
       "95                 NaN  \n",
       "96                 NaN  \n",
       "97                 NaN  \n",
       "98                 NaN  \n",
       "99                 NaN  \n",
       "\n",
       "[100 rows x 4 columns]"
      ]
     },
     "execution_count": 50,
     "metadata": {},
     "output_type": "execute_result"
    }
   ],
   "source": [
    "from csv import reader\n",
    "for i in range(10):\n",
    "    for k in range(10):\n",
    "    # open file in read mode\n",
    "        with open(beginning + str(i) + str(k) + ending) as read_obj:\n",
    "            chords = []\n",
    "            # pass the file object to reader() to get the reader object\n",
    "            csv_reader = reader(read_obj)\n",
    "            # Iterate over each row in the csv using reader object\n",
    "            for row in csv_reader:\n",
    "                # second column value => adding to list\n",
    "                chords.append(row[1])\n",
    "            #print(chords)\n",
    "            chords.remove('N')\n",
    "            chords.remove(\"N\")\n",
    "            new_row = {'Genre':'Blues', 'Chords':chords, 'First Chord':chords[0][0]}#First Chord letter => key of song\n",
    "            #append row to the dataframe\n",
    "            df = df.append(new_row, ignore_index=True)\n",
    "df"
   ]
  },
  {
   "cell_type": "code",
   "execution_count": 51,
   "metadata": {
    "scrolled": true
   },
   "outputs": [
    {
     "name": "stdout",
     "output_type": "stream",
     "text": [
      "['Gm6', 'F7/A', 'Cm6', 'Bb/C', 'F7/A', 'Cm7', 'C7/E']\n"
     ]
    },
    {
     "data": {
      "text/plain": [
       "['Gm6', 'F7/A', 'Cm6']"
      ]
     },
     "execution_count": 51,
     "metadata": {},
     "output_type": "execute_result"
    }
   ],
   "source": [
    "#code for finding most popular chords\n",
    "from collections import Counter\n",
    "print(chords)\n",
    "if(len(chords) < 3):\n",
    "    most_popular = chords[0]\n",
    "else:\n",
    "    for i in range(len(chords)):\n",
    "        a = dict(Counter(chords))\n",
    "        most_popular = list(a.keys())[:3]\n",
    "\n",
    "most_popular"
   ]
  },
  {
   "cell_type": "code",
   "execution_count": null,
   "metadata": {},
   "outputs": [],
   "source": [
    "# key = [esimene]\n",
    "# a = key.split(kõik tähed eraldi)\n",
    "# if = 6 or 7:\n",
    "#     key = a[0]\n",
    "#  else: key = a[0] + a[1]\n",
    "#"
   ]
  },
  {
   "cell_type": "code",
   "execution_count": 133,
   "metadata": {},
   "outputs": [],
   "source": [
    "df_uus = pd.DataFrame(columns=['Genre','Chords','First Chord', 'Most Popular Chords'])\n",
    "beginning = r\"C:\\Users\\georg\\Desktop\\Muusika andmeanalüütika\\MIR\\chords_all_gtzan\\pop.000\"\n",
    "ending = '_vamp_nnls-chroma_chordino_simplechord.csv'"
   ]
  },
  {
   "cell_type": "code",
   "execution_count": 134,
   "metadata": {},
   "outputs": [],
   "source": [
    "#Getting all blues song chords => list => dataframe\n",
    "from collections import Counter\n",
    "from csv import reader\n",
    "for i in range(10):\n",
    "    for k in range(10):\n",
    "    # open file in read mode\n",
    "        with open(beginning + str(i) + str(k) + ending) as read_obj:\n",
    "            chords = []\n",
    "            # pass the file object to reader() to get the reader object\n",
    "            csv_reader = reader(read_obj)\n",
    "            # Iterate over each row in the csv using reader object\n",
    "            for row in csv_reader:\n",
    "                # second column value => adding to list\n",
    "                chords.append(row[1])\n",
    "            #print(chords)\n",
    "            chords.remove('N')\n",
    "            chords.remove('N')\n",
    "            if(len(chords) < 3):\n",
    "                if(len(chords) > 0):\n",
    "                    most_popular = chords[0]\n",
    "            else:\n",
    "                a = dict(Counter(chords))\n",
    "                most_popular = list(a.keys())[:3]\n",
    "            #First Chord letter => key of song\n",
    "            if len(chords) > 0:\n",
    "                new_row = {'Genre':'Pop', 'Chords':chords, 'First Chord':chords[0][0], 'Most Popular Chords':most_popular}\n",
    "            #append row to the dataframe\n",
    "                df_uus = df_uus.append(new_row, ignore_index=True)\n",
    "#millegi pärast läheb katki"
   ]
  },
  {
   "cell_type": "markdown",
   "metadata": {},
   "source": [
    "Saving dataframe to csv file"
   ]
  },
  {
   "cell_type": "code",
   "execution_count": 135,
   "metadata": {},
   "outputs": [
    {
     "data": {
      "text/html": [
       "<div>\n",
       "<style scoped>\n",
       "    .dataframe tbody tr th:only-of-type {\n",
       "        vertical-align: middle;\n",
       "    }\n",
       "\n",
       "    .dataframe tbody tr th {\n",
       "        vertical-align: top;\n",
       "    }\n",
       "\n",
       "    .dataframe thead th {\n",
       "        text-align: right;\n",
       "    }\n",
       "</style>\n",
       "<table border=\"1\" class=\"dataframe\">\n",
       "  <thead>\n",
       "    <tr style=\"text-align: right;\">\n",
       "      <th></th>\n",
       "      <th>Genre</th>\n",
       "      <th>Chords</th>\n",
       "      <th>First Chord</th>\n",
       "      <th>Most Popular Chords</th>\n",
       "    </tr>\n",
       "  </thead>\n",
       "  <tbody>\n",
       "    <tr>\n",
       "      <th>0</th>\n",
       "      <td>Pop</td>\n",
       "      <td>[C, G, Dm, Cmaj7, G, Dm, C, G, Bbmaj7, Am7, F, C]</td>\n",
       "      <td>C</td>\n",
       "      <td>[C, G, Dm]</td>\n",
       "    </tr>\n",
       "    <tr>\n",
       "      <th>1</th>\n",
       "      <td>Pop</td>\n",
       "      <td>[Fm7, Fm6, F7, Cm7, Gm7b5/F]</td>\n",
       "      <td>F</td>\n",
       "      <td>[Fm7, Fm6, F7]</td>\n",
       "    </tr>\n",
       "    <tr>\n",
       "      <th>2</th>\n",
       "      <td>Pop</td>\n",
       "      <td>[Gm7, Eb, D7, Gm, Cm7, Dm, Gm, Cm7, F, Bb, Ebm...</td>\n",
       "      <td>G</td>\n",
       "      <td>[Gm7, Eb, D7]</td>\n",
       "    </tr>\n",
       "    <tr>\n",
       "      <th>3</th>\n",
       "      <td>Pop</td>\n",
       "      <td>[Bb6, C, G, F6, Bb6, C6, D, G]</td>\n",
       "      <td>B</td>\n",
       "      <td>[Bb6, C, G]</td>\n",
       "    </tr>\n",
       "    <tr>\n",
       "      <th>4</th>\n",
       "      <td>Pop</td>\n",
       "      <td>[C, G, Am, F, D, Bm7, G, A, D, Bm, Bb6, D/A, B...</td>\n",
       "      <td>C</td>\n",
       "      <td>[C, G, Am]</td>\n",
       "    </tr>\n",
       "    <tr>\n",
       "      <th>...</th>\n",
       "      <td>...</td>\n",
       "      <td>...</td>\n",
       "      <td>...</td>\n",
       "      <td>...</td>\n",
       "    </tr>\n",
       "    <tr>\n",
       "      <th>94</th>\n",
       "      <td>Pop</td>\n",
       "      <td>[Dm7, G, F, Am7, G, Dm7, Am7, Bbmaj7, Dm7, Gma...</td>\n",
       "      <td>D</td>\n",
       "      <td>[Dm7, G, F]</td>\n",
       "    </tr>\n",
       "    <tr>\n",
       "      <th>95</th>\n",
       "      <td>Pop</td>\n",
       "      <td>[Fm7, Bb, Gm7, Ab6, Eb, D7, Gm, Ebm7, Cm7, Bb/...</td>\n",
       "      <td>F</td>\n",
       "      <td>[Fm7, Bb, Gm7]</td>\n",
       "    </tr>\n",
       "    <tr>\n",
       "      <th>96</th>\n",
       "      <td>Pop</td>\n",
       "      <td>[Bb6, Am7, G7, Am7, D7, Dm, N]</td>\n",
       "      <td>B</td>\n",
       "      <td>[Bb6, Am7, G7]</td>\n",
       "    </tr>\n",
       "    <tr>\n",
       "      <th>97</th>\n",
       "      <td>Pop</td>\n",
       "      <td>[C6, Am, E7/G#, Am7]</td>\n",
       "      <td>C</td>\n",
       "      <td>[C6, Am, E7/G#]</td>\n",
       "    </tr>\n",
       "    <tr>\n",
       "      <th>98</th>\n",
       "      <td>Pop</td>\n",
       "      <td>[Cdim, C#m7, B7, E, Amaj7, B7, Cmaj7, C#m7, Am...</td>\n",
       "      <td>C</td>\n",
       "      <td>[Cdim, C#m7, B7]</td>\n",
       "    </tr>\n",
       "  </tbody>\n",
       "</table>\n",
       "<p>99 rows × 4 columns</p>\n",
       "</div>"
      ],
      "text/plain": [
       "   Genre                                             Chords First Chord  \\\n",
       "0    Pop  [C, G, Dm, Cmaj7, G, Dm, C, G, Bbmaj7, Am7, F, C]           C   \n",
       "1    Pop                       [Fm7, Fm6, F7, Cm7, Gm7b5/F]           F   \n",
       "2    Pop  [Gm7, Eb, D7, Gm, Cm7, Dm, Gm, Cm7, F, Bb, Ebm...           G   \n",
       "3    Pop                     [Bb6, C, G, F6, Bb6, C6, D, G]           B   \n",
       "4    Pop  [C, G, Am, F, D, Bm7, G, A, D, Bm, Bb6, D/A, B...           C   \n",
       "..   ...                                                ...         ...   \n",
       "94   Pop  [Dm7, G, F, Am7, G, Dm7, Am7, Bbmaj7, Dm7, Gma...           D   \n",
       "95   Pop  [Fm7, Bb, Gm7, Ab6, Eb, D7, Gm, Ebm7, Cm7, Bb/...           F   \n",
       "96   Pop                     [Bb6, Am7, G7, Am7, D7, Dm, N]           B   \n",
       "97   Pop                               [C6, Am, E7/G#, Am7]           C   \n",
       "98   Pop  [Cdim, C#m7, B7, E, Amaj7, B7, Cmaj7, C#m7, Am...           C   \n",
       "\n",
       "   Most Popular Chords  \n",
       "0           [C, G, Dm]  \n",
       "1       [Fm7, Fm6, F7]  \n",
       "2        [Gm7, Eb, D7]  \n",
       "3          [Bb6, C, G]  \n",
       "4           [C, G, Am]  \n",
       "..                 ...  \n",
       "94         [Dm7, G, F]  \n",
       "95      [Fm7, Bb, Gm7]  \n",
       "96      [Bb6, Am7, G7]  \n",
       "97     [C6, Am, E7/G#]  \n",
       "98    [Cdim, C#m7, B7]  \n",
       "\n",
       "[99 rows x 4 columns]"
      ]
     },
     "execution_count": 135,
     "metadata": {},
     "output_type": "execute_result"
    }
   ],
   "source": [
    "df_uus"
   ]
  },
  {
   "cell_type": "code",
   "execution_count": 136,
   "metadata": {},
   "outputs": [
    {
     "data": {
      "text/plain": [
       "C    24\n",
       "A    18\n",
       "F    16\n",
       "E    11\n",
       "G    11\n",
       "B    10\n",
       "D     9\n",
       "Name: First Chord, dtype: int64"
      ]
     },
     "execution_count": 136,
     "metadata": {},
     "output_type": "execute_result"
    }
   ],
   "source": [
    "df_uus[\"First Chord\"].value_counts()"
   ]
  },
  {
   "cell_type": "code",
   "execution_count": 123,
   "metadata": {},
   "outputs": [],
   "source": [
    "df_uus = pd.DataFrame(columns=['Genre','Chords','First Chord', 'Most Popular Chords'])"
   ]
  },
  {
   "cell_type": "code",
   "execution_count": 128,
   "metadata": {},
   "outputs": [],
   "source": [
    "df_uus.to_csv (r'C:\\Users\\georg\\Desktop\\Muusika andmeanalüütika\\MIR\\src\\Rock_df.csv', index = False, header=True)"
   ]
  },
  {
   "cell_type": "code",
   "execution_count": null,
   "metadata": {},
   "outputs": [],
   "source": [
    "#pip install pychord\n",
    "#from pychord import Chord\n",
    "#c = Chord(\"Am7\")\n",
    "#i = 1;\n",
    "#for i in range(12):\n",
    "    #c.transpose(1);\n",
    "    #i += 1;\n",
    "    #print(c)"
   ]
  }
 ],
 "metadata": {
  "kernelspec": {
   "display_name": "Python 3",
   "language": "python",
   "name": "python3"
  },
  "language_info": {
   "codemirror_mode": {
    "name": "ipython",
    "version": 3
   },
   "file_extension": ".py",
   "mimetype": "text/x-python",
   "name": "python",
   "nbconvert_exporter": "python",
   "pygments_lexer": "ipython3",
   "version": "3.8.3"
  }
 },
 "nbformat": 4,
 "nbformat_minor": 4
}
